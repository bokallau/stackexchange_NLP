{
 "cells": [
  {
   "cell_type": "markdown",
   "metadata": {},
   "source": [
    "# NLP Exploration of Stackexchange Data Dump - Data Science subset\n",
    "## Bruce Okallau\n",
    "\n",
    "Stackexchange is a community driven network of websites where users of various technologies can post questions and answers. Questions and answers are rated by other users and curated as the answers can be useful to more than one user. Stackexchange provides anonymized data on the users, posts, comments, and votes in various site subtopics. The data includes the text in the title and body of the posts as well as numeric metrics (score, view count, answer count, etc.).\n",
    "\n",
    "Data can be found here: https://archive.org/details/stackexchange\n",
    "\n",
    "Thanks to 'adich23' for the github notebook to convert xml to csv in pyspark"
   ]
  },
  {
   "cell_type": "code",
   "execution_count": 1,
   "metadata": {},
   "outputs": [
    {
     "name": "stdout",
     "output_type": "stream",
     "text": [
      "-6.0\n",
      "113.0\n"
     ]
    },
    {
     "data": {
      "text/plain": [
       "(array([  1.47910000e+04,   1.24100000e+03,   9.30000000e+01,\n",
       "          3.10000000e+01,   6.00000000e+00,   8.00000000e+00,\n",
       "          4.00000000e+00,   1.00000000e+00,   2.00000000e+00,\n",
       "          2.00000000e+00]),\n",
       " array([  -6. ,    5.9,   17.8,   29.7,   41.6,   53.5,   65.4,   77.3,\n",
       "          89.2,  101.1,  113. ]),\n",
       " <a list of 10 Patch objects>)"
      ]
     },
     "execution_count": 1,
     "metadata": {},
     "output_type": "execute_result"
    },
    {
     "data": {
      "image/png": "[encoded data removed]",
      "text/plain": [
       "<matplotlib.figure.Figure at 0x114331cf8>"
      ]
     },
     "metadata": {},
     "output_type": "display_data"
    }
   ],
   "source": [
    "import pandas as pd\n",
    "import matplotlib.pyplot as plt\n",
    "%matplotlib inline\n",
    "\n",
    "posts1 = pd.read_csv('posts_1.csv')\n",
    "\n",
    "posts2 = pd.read_csv('posts_2.csv')\n",
    "posts3 = pd.read_csv('posts_3.csv')\n",
    "posts4 = pd.read_csv('posts_4.csv')\n",
    "\n",
    "posts = pd.concat([posts1,posts2,posts3,posts4], axis=0)\n",
    "\n",
    "# 'Score' is the number of upvotes - downvotes and is an indicator of the quality of the post\n",
    "\n",
    "# distribution of scores\n",
    "print(min(posts['Score']))\n",
    "# -6\n",
    "\n",
    "print(max(posts['Score']))\n",
    "# 113\n",
    "\n",
    "plt.hist(posts['Score'][~pd.isnull(posts['Score'])])"
   ]
  },
  {
   "cell_type": "markdown",
   "metadata": {},
   "source": [
    "Most posts have a score of 0. Perhaps there is room for improvement. The distribution for ViewCount, AnswerCount, and FavoriteCount are very simliar.\n",
    "\n",
    "Is there a relationship between the words in the title and score?"
   ]
  },
  {
   "cell_type": "code",
   "execution_count": 2,
   "metadata": {},
   "outputs": [
    {
     "name": "stdout",
     "output_type": "stream",
     "text": [
      "0\n",
      "[nltk_data] Downloading package stopwords to\n",
      "[nltk_data]     /Users/bruceokallau/nltk_data...\n",
      "[nltk_data]   Package stopwords is already up-to-date!\n",
      "(7113, 4037)\n"
     ]
    }
   ],
   "source": [
    "# filter data set \n",
    "posts_titles = posts[~pd.isnull(posts['Title'])]\n",
    "\n",
    "# how many missing values?\n",
    "print(sum(posts_titles['Score'].isnull().values.ravel()))\n",
    "# 0\n",
    "\n",
    "# Cleaning the texts\n",
    "import re\n",
    "import nltk\n",
    "nltk.download('stopwords')\n",
    "from nltk.corpus import stopwords\n",
    "from nltk.stem.porter import PorterStemmer\n",
    "posts_titles = posts_titles.reset_index(drop=True)\n",
    "\n",
    "corpus = []\n",
    "\n",
    "for i in range(len(posts_titles)):\n",
    "    title = re.sub('[^a-zA-Z_0-9]', ' ', posts_titles['Title'][i])\n",
    "    title = title.lower()\n",
    "    title = title.split()\n",
    "    ps = PorterStemmer()\n",
    "    title = [ps.stem(word) for word in title if not word in set(stopwords.words('english'))]\n",
    "    title = ' '.join(title)\n",
    "    corpus.append(title)\n",
    "\n",
    "# Creating the Bag of Words model\n",
    "from sklearn.feature_extraction.text import CountVectorizer\n",
    "cv = CountVectorizer(max_features = 7000)\n",
    "X = cv.fit_transform(corpus).toarray()\n",
    "Y = posts_titles['Score']\n",
    "\n",
    "print(X.shape)"
   ]
  },
  {
   "cell_type": "markdown",
   "metadata": {},
   "source": [
    "4037 different words used in titles of 7113 posts. Will reduce dimentionality with PCA."
   ]
  },
  {
   "cell_type": "code",
   "execution_count": 4,
   "metadata": {},
   "outputs": [
    {
     "name": "stdout",
     "output_type": "stream",
     "text": [
      "[1]\tvalid_0's l1: 1.96609\n",
      "Training until validation scores don't improve for 50 rounds.\n",
      "[2]\tvalid_0's l1: 1.96563\n",
      "[3]\tvalid_0's l1: 1.96534\n",
      "[4]\tvalid_0's l1: 1.96479\n",
      "[5]\tvalid_0's l1: 1.96414\n",
      "[6]\tvalid_0's l1: 1.96371\n",
      "[7]\tvalid_0's l1: 1.96316\n",
      "[8]\tvalid_0's l1: 1.96245\n",
      "[9]\tvalid_0's l1: 1.96258\n",
      "[10]\tvalid_0's l1: 1.96194\n",
      "[11]\tvalid_0's l1: 1.96219\n",
      "[12]\tvalid_0's l1: 1.96132\n",
      "[13]\tvalid_0's l1: 1.96135\n",
      "[14]\tvalid_0's l1: 1.96141\n",
      "[15]\tvalid_0's l1: 1.96133\n",
      "[16]\tvalid_0's l1: 1.96139\n",
      "[17]\tvalid_0's l1: 1.96066\n",
      "[18]\tvalid_0's l1: 1.9605\n",
      "[19]\tvalid_0's l1: 1.96006\n",
      "[20]\tvalid_0's l1: 1.9595\n",
      "[21]\tvalid_0's l1: 1.95918\n",
      "[22]\tvalid_0's l1: 1.95941\n",
      "[23]\tvalid_0's l1: 1.95905\n",
      "[24]\tvalid_0's l1: 1.95921\n",
      "[25]\tvalid_0's l1: 1.95904\n",
      "[26]\tvalid_0's l1: 1.95884\n",
      "[27]\tvalid_0's l1: 1.959\n",
      "[28]\tvalid_0's l1: 1.95871\n",
      "[29]\tvalid_0's l1: 1.95851\n",
      "[30]\tvalid_0's l1: 1.95869\n",
      "[31]\tvalid_0's l1: 1.95856\n",
      "[32]\tvalid_0's l1: 1.95862\n",
      "[33]\tvalid_0's l1: 1.95897\n",
      "[34]\tvalid_0's l1: 1.95856\n",
      "[35]\tvalid_0's l1: 1.95843\n",
      "[36]\tvalid_0's l1: 1.95913\n",
      "[37]\tvalid_0's l1: 1.95953\n",
      "[38]\tvalid_0's l1: 1.95959\n",
      "[39]\tvalid_0's l1: 1.95945\n",
      "[40]\tvalid_0's l1: 1.9598\n",
      "[41]\tvalid_0's l1: 1.95998\n",
      "[42]\tvalid_0's l1: 1.96051\n",
      "[43]\tvalid_0's l1: 1.96104\n",
      "[44]\tvalid_0's l1: 1.96068\n",
      "[45]\tvalid_0's l1: 1.96108\n",
      "[46]\tvalid_0's l1: 1.96149\n",
      "[47]\tvalid_0's l1: 1.96227\n",
      "[48]\tvalid_0's l1: 1.96283\n",
      "[49]\tvalid_0's l1: 1.96325\n",
      "[50]\tvalid_0's l1: 1.96377\n",
      "[51]\tvalid_0's l1: 1.96431\n",
      "[52]\tvalid_0's l1: 1.96526\n",
      "[53]\tvalid_0's l1: 1.9662\n",
      "[54]\tvalid_0's l1: 1.96702\n",
      "[55]\tvalid_0's l1: 1.9679\n",
      "[56]\tvalid_0's l1: 1.9683\n",
      "[57]\tvalid_0's l1: 1.96925\n",
      "[58]\tvalid_0's l1: 1.97041\n",
      "[59]\tvalid_0's l1: 1.9706\n",
      "[60]\tvalid_0's l1: 1.97057\n",
      "[61]\tvalid_0's l1: 1.9714\n",
      "[62]\tvalid_0's l1: 1.97208\n",
      "[63]\tvalid_0's l1: 1.9723\n",
      "[64]\tvalid_0's l1: 1.97285\n",
      "[65]\tvalid_0's l1: 1.97324\n",
      "[66]\tvalid_0's l1: 1.97452\n",
      "[67]\tvalid_0's l1: 1.97481\n",
      "[68]\tvalid_0's l1: 1.97542\n",
      "[69]\tvalid_0's l1: 1.97668\n",
      "[70]\tvalid_0's l1: 1.97815\n",
      "[71]\tvalid_0's l1: 1.97907\n",
      "[72]\tvalid_0's l1: 1.97927\n",
      "[73]\tvalid_0's l1: 1.9796\n",
      "[74]\tvalid_0's l1: 1.98063\n",
      "[75]\tvalid_0's l1: 1.98108\n",
      "[76]\tvalid_0's l1: 1.98212\n",
      "[77]\tvalid_0's l1: 1.98235\n",
      "[78]\tvalid_0's l1: 1.98333\n",
      "[79]\tvalid_0's l1: 1.98424\n",
      "[80]\tvalid_0's l1: 1.98477\n",
      "[81]\tvalid_0's l1: 1.98574\n",
      "[82]\tvalid_0's l1: 1.98627\n",
      "[83]\tvalid_0's l1: 1.98648\n",
      "[84]\tvalid_0's l1: 1.98777\n",
      "[85]\tvalid_0's l1: 1.98873\n",
      "Early stopping, best iteration is:\n",
      "[35]\tvalid_0's l1: 1.95843\n"
     ]
    }
   ],
   "source": [
    "# Splitting the dataset into the Training set and Test set\n",
    "from sklearn.model_selection import train_test_split\n",
    "X_train, X_test, Y_train, Y_test = train_test_split(X, Y, test_size = 0.20, random_state = 42)\n",
    "\n",
    "# Applying PCA\n",
    "from sklearn.decomposition import PCA\n",
    "pca50 = PCA(n_components = 50)\n",
    "X_train_50 = pca50.fit_transform(X_train)\n",
    "X_test_50 = pca50.transform(X_test)\n",
    "\n",
    "import lightgbm as lgb\n",
    "X_50_resampled, X_50_valid, Y_resampled, Y_valid = train_test_split(X_train_50, Y_train, test_size = 0.2, random_state = 42)\n",
    "\n",
    "# create dataset for lightgbm\n",
    "lgb_train = lgb.Dataset(X_50_resampled, Y_resampled)\n",
    "lgb_eval = lgb.Dataset(X_50_valid, Y_valid, reference=lgb_train)\n",
    "\n",
    "params = {\n",
    "        'objective': 'regression',\n",
    "        'metric': 'MAE',\n",
    "        'learning_rate': 0.01,\n",
    "        'verbose': 0}\n",
    "\n",
    "gbm = lgb.train(params, lgb_train, num_boost_round=2000, valid_sets=lgb_eval, early_stopping_rounds=50)"
   ]
  },
  {
   "cell_type": "code",
   "execution_count": 6,
   "metadata": {},
   "outputs": [
    {
     "name": "stdout",
     "output_type": "stream",
     "text": [
      "2.15847975038\n"
     ]
    }
   ],
   "source": [
    "from sklearn.metrics import mean_absolute_error\n",
    "Y_gbm = gbm.predict(X_test_50)\n",
    "print(mean_absolute_error(Y_test, Y_gbm))"
   ]
  },
  {
   "cell_type": "markdown",
   "metadata": {},
   "source": [
    "Good agreement from validation set to test set. Predictions off by 2 points on score where the range is -6 to 113."
   ]
  },
  {
   "cell_type": "code",
   "execution_count": 15,
   "metadata": {},
   "outputs": [
    {
     "data": {
      "text/plain": [
       "(array([  1.02800000e+03,   3.67000000e+02,   1.60000000e+01,\n",
       "          9.00000000e+00,   0.00000000e+00,   0.00000000e+00,\n",
       "          2.00000000e+00,   0.00000000e+00,   0.00000000e+00,\n",
       "          1.00000000e+00]),\n",
       " array([ -8.48647381,   0.5655367 ,   9.6175472 ,  18.66955771,\n",
       "         27.72156822,  36.77357872,  45.82558923,  54.87759973,\n",
       "         63.92961024,  72.98162074,  82.03363125]),\n",
       " <a list of 10 Patch objects>)"
      ]
     },
     "execution_count": 15,
     "metadata": {},
     "output_type": "execute_result"
    },
    {
     "data": {
      "image/png": "[encoded data removed]",
      "text/plain": [
       "<matplotlib.figure.Figure at 0x13e03b5c0>"
      ]
     },
     "metadata": {},
     "output_type": "display_data"
    }
   ],
   "source": [
    "res_gbm = Y_test - Y_gbm\n",
    "plt.hist(res_gbm)"
   ]
  },
  {
   "cell_type": "markdown",
   "metadata": {},
   "source": [
    "Residuals are not normally distributed. There are most likely more patterns that can be found and used to make better predictions. PCA might not be the best technique for dimentionality reduction."
   ]
  },
  {
   "cell_type": "code",
   "execution_count": null,
   "metadata": {},
   "outputs": [],
   "source": []
  }
 ],
 "metadata": {
  "kernelspec": {
   "display_name": "Python 3",
   "language": "python",
   "name": "python3"
  },
  "language_info": {
   "codemirror_mode": {
    "name": "ipython",
    "version": 3
   },
   "file_extension": ".py",
   "mimetype": "text/x-python",
   "name": "python",
   "nbconvert_exporter": "python",
   "pygments_lexer": "ipython3",
   "version": "3.6.0"
  }
 },
 "nbformat": 4,
 "nbformat_minor": 2
}
